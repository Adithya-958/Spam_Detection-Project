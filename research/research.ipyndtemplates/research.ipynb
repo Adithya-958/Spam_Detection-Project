{
 "cells": [
  {
   "cell_type": "markdown",
   "id": "2ca58d49",
   "metadata": {},
   "source": [
    "data invalidation done\n"
   ]
  },
  {
   "cell_type": "markdown",
   "id": "38716701",
   "metadata": {},
   "source": [
    "data validation:    has 3 important things: (we create in artifacts folder itself) config.yaml\n",
    "1. root dir for data validation: a serate folder for cleaned data\n",
    "2. input file (un zip file from artifacts folder)\n",
    "3. status file data was validated successfully or not."
   ]
  },
  {
   "cell_type": "markdown",
   "id": "d7d9d09f",
   "metadata": {},
   "source": [
    "define schema: #schema.yaml\n",
    "read the input file and find out the schema by below way:\n",
    "import pandas\n",
    "data = pd.read.csv(r\"artifacts/\")\n",
    "data.head()  to see first 5 set of data\n",
    "data.info #read to see features available & update features available to schema.yaml\n",
    "check for pre processing: missing null or outliers\n",
    "data.shape"
   ]
  },
  {
   "cell_type": "markdown",
   "id": "f868cc0e",
   "metadata": {},
   "source": [
    "creating data validation config: configuring the data validation(config\\\\) according to config.yaml\n"
   ]
  },
  {
   "cell_type": "code",
   "execution_count": 1,
   "id": "e0ad0d17",
   "metadata": {},
   "outputs": [],
   "source": [
    "import pandas as pd"
   ]
  },
  {
   "cell_type": "code",
   "execution_count": 3,
   "id": "ce1ab11f",
   "metadata": {},
   "outputs": [
    {
     "data": {
      "text/html": [
       "<div>\n",
       "<style scoped>\n",
       "    .dataframe tbody tr th:only-of-type {\n",
       "        vertical-align: middle;\n",
       "    }\n",
       "\n",
       "    .dataframe tbody tr th {\n",
       "        vertical-align: top;\n",
       "    }\n",
       "\n",
       "    .dataframe thead th {\n",
       "        text-align: right;\n",
       "    }\n",
       "</style>\n",
       "<table border=\"1\" class=\"dataframe\">\n",
       "  <thead>\n",
       "    <tr style=\"text-align: right;\">\n",
       "      <th></th>\n",
       "      <th>Message</th>\n",
       "      <th>Category</th>\n",
       "    </tr>\n",
       "  </thead>\n",
       "  <tbody>\n",
       "    <tr>\n",
       "      <th>0</th>\n",
       "      <td>\"बधाई हो! हमने सीरीज़ B फ़ंडिंग में $29 मिलियन...</td>\n",
       "      <td>spam</td>\n",
       "    </tr>\n",
       "    <tr>\n",
       "      <th>1</th>\n",
       "      <td>अंतिम मौका! संचार मास्टरक्लास पर 70% की छूट, स...</td>\n",
       "      <td>spam</td>\n",
       "    </tr>\n",
       "    <tr>\n",
       "      <th>2</th>\n",
       "      <td>फिटनेस पर 60% छूट! अपनी प्रीमियम मेंबरशिप अपग्...</td>\n",
       "      <td>spam</td>\n",
       "    </tr>\n",
       "    <tr>\n",
       "      <th>3</th>\n",
       "      <td>Alibaba.com पर थोक में खरीदें। फैशन, प्लेड ड्र...</td>\n",
       "      <td>spam</td>\n",
       "    </tr>\n",
       "    <tr>\n",
       "      <th>4</th>\n",
       "      <td>अपने आप को सरकारी एजेंसीयों/रिज़र्व बैंक (RBI)...</td>\n",
       "      <td>ham</td>\n",
       "    </tr>\n",
       "  </tbody>\n",
       "</table>\n",
       "</div>"
      ],
      "text/plain": [
       "                                             Message Category\n",
       "0  \"बधाई हो! हमने सीरीज़ B फ़ंडिंग में $29 मिलियन...     spam\n",
       "1  अंतिम मौका! संचार मास्टरक्लास पर 70% की छूट, स...     spam\n",
       "2  फिटनेस पर 60% छूट! अपनी प्रीमियम मेंबरशिप अपग्...     spam\n",
       "3  Alibaba.com पर थोक में खरीदें। फैशन, प्लेड ड्र...     spam\n",
       "4  अपने आप को सरकारी एजेंसीयों/रिज़र्व बैंक (RBI)...      ham"
      ]
     },
     "execution_count": 3,
     "metadata": {},
     "output_type": "execute_result"
    }
   ],
   "source": [
    "data = pd.read_csv(r\"C:\\Udemy_proj\\new_proj\\Spam_Detection_Project\\artifacts\\data_ingestion\\Spam_or_ham_workingset.csv\")\n",
    "data.head()"
   ]
  },
  {
   "cell_type": "code",
   "execution_count": 4,
   "id": "24f1e843",
   "metadata": {},
   "outputs": [
    {
     "name": "stdout",
     "output_type": "stream",
     "text": [
      "<class 'pandas.core.frame.DataFrame'>\n",
      "RangeIndex: 2000 entries, 0 to 1999\n",
      "Data columns (total 2 columns):\n",
      " #   Column    Non-Null Count  Dtype \n",
      "---  ------    --------------  ----- \n",
      " 0   Message   2000 non-null   object\n",
      " 1   Category  2000 non-null   object\n",
      "dtypes: object(2)\n",
      "memory usage: 31.4+ KB\n"
     ]
    }
   ],
   "source": [
    "data.info()"
   ]
  }
 ],
 "metadata": {
  "kernelspec": {
   "display_name": "myvenv",
   "language": "python",
   "name": "python3"
  },
  "language_info": {
   "codemirror_mode": {
    "name": "ipython",
    "version": 3
   },
   "file_extension": ".py",
   "mimetype": "text/x-python",
   "name": "python",
   "nbconvert_exporter": "python",
   "pygments_lexer": "ipython3",
   "version": "3.13.0"
  }
 },
 "nbformat": 4,
 "nbformat_minor": 5
}
